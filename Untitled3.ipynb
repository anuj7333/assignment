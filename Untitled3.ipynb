{
 "cells": [
  {
   "cell_type": "code",
   "execution_count": 13,
   "id": "b3d06094-396b-44fd-9d5f-f5b03cdacd5f",
   "metadata": {},
   "outputs": [
    {
     "name": "stdout",
     "output_type": "stream",
     "text": [
      "sum of my list = 33\n"
     ]
    }
   ],
   "source": [
    "#Write a Python program to sum all the items in a list.\n",
    "\n",
    "mylist = (3,4,5,6,7,8)\n",
    "x =sum(mylist)\n",
    "print(\"sum of my list =\",x)"
   ]
  },
  {
   "cell_type": "code",
   "execution_count": 90,
   "id": "eb6d6193-191c-473d-b5d4-24afea670312",
   "metadata": {},
   "outputs": [
    {
     "name": "stdout",
     "output_type": "stream",
     "text": [
      "even number are [2, 4, 6, 8]\n"
     ]
    }
   ],
   "source": [
    "#Create a function that takes a list of numbers as input and returns a new list with only the even numbers from the original list.\n",
    "\n",
    "def filter_even_number(t):\n",
    "   y=[]\n",
    "   for num in t:\n",
    "       if num %2==0:\n",
    "           y.append(num)\n",
    "   return y\n",
    "mylist=(1,2,3,4,5,6,7,8,9)\n",
    "x= filter_even_number(mylist)\n",
    "print(\"even number are\",x)"
   ]
  },
  {
   "cell_type": "code",
   "execution_count": 107,
   "id": "24f61fc1-577c-40c1-8bbf-80ce6ebbf4ee",
   "metadata": {},
   "outputs": [
    {
     "name": "stdout",
     "output_type": "stream",
     "text": [
      "final list is [1, 2, 4, 5, 6, 8, 10]\n"
     ]
    }
   ],
   "source": [
    "# Write a Python program to remove duplicates from a list.\n",
    "\n",
    "def remove_duplicates(k):\n",
    "    x=[]\n",
    "    for num in k:\n",
    "        if num not in x:\n",
    "            x.append(num)\n",
    "    return x\n",
    "mylist=(1,2,2,4,5,6,6,6,8,10)\n",
    "y=remove_duplicates(mylist)\n",
    "print(\"final list is\",y)"
   ]
  },
  {
   "cell_type": "code",
   "execution_count": 125,
   "id": "41de0886-f837-4019-94e6-7aa6768800e8",
   "metadata": {},
   "outputs": [
    {
     "name": "stdout",
     "output_type": "stream",
     "text": [
      "second largest number is: 45\n"
     ]
    }
   ],
   "source": [
    "#Implement a function to find the second largest number in a list\n",
    "#sorted function\n",
    "\n",
    "def second_largest(lst):\n",
    "    x= sorted(lst)\n",
    "    return x[-2]\n",
    "\n",
    "mylist = [1,2,3,4,5,6,7,8,9]\n",
    "print(\"second largest number is:\", second_largest(mylist))\n"
   ]
  },
  {
   "cell_type": "code",
   "execution_count": 133,
   "id": "050ce64e-1547-4c06-9cdf-d447dac69dfa",
   "metadata": {},
   "outputs": [
    {
     "name": "stdout",
     "output_type": "stream",
     "text": [
      " shuffled list is: [3, 4, 6, 1, 5, 7, 9, 8, 2]\n"
     ]
    }
   ],
   "source": [
    "#Write a Python program to shuffle and print a list\n",
    "\n",
    "import random\n",
    "mylist = [1,2,3,4,5,6,7,8,9]\n",
    "random.shuffle(mylist)\n",
    "print(\" shuffled list is:\", mylist)\n"
   ]
  },
  {
   "cell_type": "code",
   "execution_count": null,
   "id": "6a3eb0c8-5e14-436d-9cff-0322c3240c52",
   "metadata": {},
   "outputs": [],
   "source": []
  }
 ],
 "metadata": {
  "kernelspec": {
   "display_name": "Python 3 (ipykernel)",
   "language": "python",
   "name": "python3"
  },
  "language_info": {
   "codemirror_mode": {
    "name": "ipython",
    "version": 3
   },
   "file_extension": ".py",
   "mimetype": "text/x-python",
   "name": "python",
   "nbconvert_exporter": "python",
   "pygments_lexer": "ipython3",
   "version": "3.11.7"
  }
 },
 "nbformat": 4,
 "nbformat_minor": 5
}
